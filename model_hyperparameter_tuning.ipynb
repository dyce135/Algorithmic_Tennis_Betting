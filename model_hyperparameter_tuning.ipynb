{
 "cells": [
  {
   "cell_type": "code",
   "execution_count": null,
   "metadata": {},
   "outputs": [],
   "source": [
    "import math\n",
    "import numpy as np\n",
    "import pandas as pd\n",
    "from sklearn.model_selection import train_test_split\n",
    "import json\n",
    "from sklearn.metrics import mean_absolute_error as mae\n",
    "import seq2seq_model\n",
    "from tensorflow.keras.models import load_model, Sequential\n",
    "import tensorflow as tf\n",
    "from tensorflow import keras\n",
    "from tensorflow.keras.layers import Dense, TimeDistributed\n",
    "from tensorflow.keras import backend as K\n",
    "from matplotlib import pyplot as plt\n",
    "import os\n",
    "from os.path import join\n",
    "from random import shuffle"
   ]
  },
  {
   "cell_type": "code",
   "execution_count": null,
   "metadata": {},
   "outputs": [],
   "source": [
    "# train_list = os.listdir('./Data/Train')\n",
    "# shuffle(train_list)\n",
    "\n",
    "n_length = 60\n",
    "n_steps = 3\n",
    "features_in = range(8) \n",
    "features_out = range(1)\n",
    "features_out_num = 1\n",
    "lstm_dim = [100, 200, 300, 400]\n",
    "epochs=10\n",
    "batch_size=50\n",
    "lr = 0.0001\n",
    "\n",
    "df = pd.read_csv(join('./Data/Train', train_list[0]), index_col=0)\n",
    "data = df.to_numpy()\n",
    "\n",
    "for dim in lstm_dim:\n",
    "\n",
    "    model = seq2seq_model.seq2seq_compile(data, n_length=n_length, n_steps=n_steps, features_out_num=features_out_num, lstm_dim=dim, features_in=features_in, features_out=features_out, lr=lr)\n",
    "\n",
    "    for file in train_list:\n",
    "        print('Fitting ', file)\n",
    "\n",
    "        df = pd.read_csv(join('./Data/Train', file), index_col=0)\n",
    "        data = df.to_numpy()\n",
    "        \n",
    "        train_x, train_y = seq2seq_model.truncate_data(data, n_length*n_steps, n_length, features_in=features_in, features_out=features_out)\n",
    "        x = model.get_layer('time_distributed').output\n",
    "        x = TimeDistributed(Dense(features_out_num, activation='sigmoid'))(x)\n",
    "        model = keras.models.Model(inputs=model.input, outputs=x)\n",
    "        \n",
    "        opt = keras.optimizers.Adam(learning_rate=lr)\n",
    "        model.compile(loss='mse', optimizer=opt, metrics=['mae', 'mse'])\n",
    "        history = model.fit(train_x, train_y, epochs=epochs, batch_size=batch_size, verbose=1)\n",
    "\n",
    "        hist_df = pd.DataFrame(history.history)\n",
    "        hist_df.to_csv(join('Train_hist/', file))\n",
    "        model.reset_states()"
   ]
  }
 ],
 "metadata": {
  "language_info": {
   "name": "python"
  },
  "orig_nbformat": 4
 },
 "nbformat": 4,
 "nbformat_minor": 2
}

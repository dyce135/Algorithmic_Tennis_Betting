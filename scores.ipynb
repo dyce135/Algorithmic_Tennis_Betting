{
 "cells": [
  {
   "cell_type": "code",
   "execution_count": 1,
   "metadata": {
    "ExecuteTime": {
     "start_time": "2023-04-08T22:24:53.273380Z",
     "end_time": "2023-04-08T22:24:53.274347Z"
    }
   },
   "outputs": [],
   "source": [
    "def prob_win(p,a,b):\n",
    "    if (a==4 and b<=2):\n",
    "        return 1.0\n",
    "    elif (b==4 and a<=2):\n",
    "        return 0.0\n",
    "    elif (a==3 and b==3):\n",
    "        return p**2/(1-2*p*(1-p))\n",
    "    else:\n",
    "        return prob_win(p,a+1,b)*p + (1-p)*prob_win(p,a,b+1)\n",
    "\n",
    "def prob_win_adv(p,a,b):\n",
    "    #here let us include advantage i.e 0,1,2,3,5 (with 4 as adv)\n",
    "\n",
    "    if (a==4 and b==3):\n",
    "        return prob_win(p,3,2)\n",
    "    elif (a==3 and b==4):\n",
    "        return prob_win(p,2,3)\n",
    "    else:\n",
    "        return prob_win(p,a,b)"
   ]
  },
  {
   "cell_type": "code",
   "execution_count": 2,
   "metadata": {
    "ExecuteTime": {
     "start_time": "2023-04-08T22:24:55.385664Z",
     "end_time": "2023-04-08T22:24:55.390392Z"
    }
   },
   "outputs": [],
   "source": [
    "def odds_win_adv(p,a,b):\n",
    "    return round(1/prob_win_adv(p,a,b),2)"
   ]
  },
  {
   "cell_type": "code",
   "execution_count": 3,
   "metadata": {
    "ExecuteTime": {
     "start_time": "2023-04-08T22:24:56.331683Z",
     "end_time": "2023-04-08T22:24:56.338311Z"
    }
   },
   "outputs": [
    {
     "data": {
      "text/plain": "1.12"
     },
     "execution_count": 3,
     "metadata": {},
     "output_type": "execute_result"
    }
   ],
   "source": [
    "odds_win_adv(0.62,4,3)"
   ]
  },
  {
   "cell_type": "code",
   "execution_count": 4,
   "metadata": {
    "ExecuteTime": {
     "start_time": "2023-04-08T22:24:56.930934Z",
     "end_time": "2023-04-08T22:24:56.935634Z"
    }
   },
   "outputs": [],
   "source": [
    "def p_game(pa,x=0,y=0):\n",
    "    if x==4 and x-y>=2:\n",
    "        return 1.0\n",
    "    elif y==4 and y-x >=2:\n",
    "        return 0.0\n",
    "    elif x==3 and y==3:\n",
    "        return pa**2/(pa**2+ (1-pa)**2)\n",
    "    else:\n",
    "        return pa*p_game(pa,x+1,y) + (1-pa)*p_game(pa,x,y+1)"
   ]
  },
  {
   "cell_type": "code",
   "execution_count": 5,
   "metadata": {
    "ExecuteTime": {
     "start_time": "2023-04-08T22:25:00.635670Z",
     "end_time": "2023-04-08T22:25:00.639757Z"
    }
   },
   "outputs": [],
   "source": [
    "def p_game_adv(pa,x=0,y=0):\n",
    "    #here let us include advantage i.e 0,1,2,3,5 (with 4 as adv)\n",
    "    if (x==4 and y==3):\n",
    "        return p_game(pa,3,2)\n",
    "    elif (x==3 and y==4):\n",
    "        return p_game(pa,2,3)\n",
    "    else:\n",
    "        return p_game(pa,x,y)"
   ]
  },
  {
   "cell_type": "code",
   "execution_count": 6,
   "metadata": {
    "ExecuteTime": {
     "start_time": "2023-04-08T22:25:01.231979Z",
     "end_time": "2023-04-08T22:25:01.235113Z"
    }
   },
   "outputs": [],
   "source": [
    "def p_tiebreak(pa,pb,x=0,y=0):\n",
    "    if x==7 and x-y>=2:\n",
    "        return 1.0\n",
    "    elif y==7 and y-x>=2:\n",
    "        return 0.0\n",
    "    elif x==6 and y ==6:\n",
    "        return pa*(1-pb)/(pa*(1-pb)+(1-pa)*pb)\n",
    "    elif (x+y) % 2 ==0 :\n",
    "        return pb*p_tiebreak(pa,pb,x, y+1) + (1-pb)*p_tiebreak(pa,pb,x+1, y)\n",
    "    elif (x+y) %2 != 0:\n",
    "        return pa*p_tiebreak(pa,pb,x+1,y) + (1-pa)*p_tiebreak(pa,pb,x,y+1)"
   ]
  },
  {
   "cell_type": "code",
   "execution_count": 7,
   "metadata": {
    "ExecuteTime": {
     "start_time": "2023-04-08T22:25:01.794826Z",
     "end_time": "2023-04-08T22:25:01.796411Z"
    }
   },
   "outputs": [],
   "source": [
    "def p_set(pa,pb,x=0,y=0):\n",
    "    if x>=6 and x-y>=2:\n",
    "        return 1.0\n",
    "    elif y>=6 and  y-x>=2:\n",
    "        return 0.0\n",
    "    elif x==6 and y==6:\n",
    "        return p_tiebreak(pa,pb)\n",
    "    else:\n",
    "        return p_game(pa)*(1-p_set(pb,pa,y,x+1)) + (1-p_game(pa))*(1-p_set(pb,pa,y+1,x))"
   ]
  },
  {
   "cell_type": "code",
   "execution_count": 8,
   "metadata": {
    "ExecuteTime": {
     "start_time": "2023-04-08T22:25:02.892711Z",
     "end_time": "2023-04-08T22:25:02.901871Z"
    }
   },
   "outputs": [
    {
     "data": {
      "text/plain": "'\\ndef p_match(pa, pb,x=0,y=0):\\n    if y <2 and x ==2:\\n        return 1.0\\n    elif x< 2 and y ==2:\\n        return 0.0\\n    elif x==1 and y==1:\\n        return p_set(pa,pb)\\n    else:\\n        return p_set(pa,pb)*p_match(pa,pb,x+1,y) + (1-p_set(pa,pb))*p_match(pa,pb,x, y+1)\\n'"
     },
     "execution_count": 8,
     "metadata": {},
     "output_type": "execute_result"
    }
   ],
   "source": [
    "\"\"\"\n",
    "def p_match(pa, pb,x=0,y=0):\n",
    "    if y <2 and x ==2:\n",
    "        return 1.0\n",
    "    elif x< 2 and y ==2:\n",
    "        return 0.0\n",
    "    elif x==1 and y==1:\n",
    "        return p_set(pa,pb)\n",
    "    else:\n",
    "        return p_set(pa,pb)*p_match(pa,pb,x+1,y) + (1-p_set(pa,pb))*p_match(pa,pb,x, y+1)\n",
    "\"\"\""
   ]
  },
  {
   "cell_type": "code",
   "execution_count": 9,
   "metadata": {
    "ExecuteTime": {
     "start_time": "2023-04-08T22:25:23.491971Z",
     "end_time": "2023-04-08T22:25:23.532834Z"
    }
   },
   "outputs": [],
   "source": [
    "def p_game(pa,x=0,y=0):\n",
    "    if x==4 and x-y>=2:\n",
    "        return 1.0\n",
    "    elif y==4 and y-x >=2:\n",
    "        return 0.0\n",
    "    elif x==3 and y==3:\n",
    "        return pa**2/(pa**2+ (1-pa)**2)\n",
    "    else:\n",
    "        return pa*p_game(pa,x+1,y) + (1-pa)*p_game(pa,x,y+1)\n",
    "\n",
    "def p_game_adv(pa,x=0,y=0):\n",
    "    #here let us include advantage i.e 0,1,2,3,5 (with 4 as adv)\n",
    "    if (x==4 and y==3):\n",
    "        return p_game(pa,3,2)\n",
    "    elif (x==3 and y==4):\n",
    "        return p_game(pa,2,3)\n",
    "    else:\n",
    "        return p_game(pa,x,y)\n",
    "\n",
    "def p_tiebreak(pa,pb,x=0,y=0):\n",
    "    if x==7 and x-y>=2:\n",
    "        return 1.0\n",
    "    elif y==7 and y-x>=2:\n",
    "        return 0.0\n",
    "    elif x==6 and y ==6:\n",
    "        return pa*(1-pb)/(pa*(1-pb)+(1-pa)*pb)\n",
    "    elif (x+y) % 2 ==0 :\n",
    "        return pb*p_tiebreak(pa,pb,x, y+1) + (1-pb)*p_tiebreak(pa,pb,x+1, y)\n",
    "    elif (x+y) %2 != 0:\n",
    "        return pa*p_tiebreak(pa,pb,x+1,y) + (1-pa)*p_tiebreak(pa,pb,x,y+1)\n",
    "\n",
    "def p_set(pa,pb,x=0,y=0):\n",
    "    if x>=6 and x-y>=2:\n",
    "        return 1.0\n",
    "    elif y>=6 and  y-x>=2:\n",
    "        return 0.0\n",
    "    elif x==6 and y==6:\n",
    "        return p_tiebreak(pa,pb)\n",
    "    else:\n",
    "        return p_game(pa)*(1-p_set(pb,pa,y,x+1)) + (1-p_game(pa))*(1-p_set(pb,pa,y+1,x))\n",
    "\n",
    "def prob_tbset(pa,pb,a,b,c,d):\n",
    "    if c==6 and d==6:\n",
    "        return p_tiebreak(pa,pb,a,b)\n",
    "    else:\n",
    "        return p_game_adv(pa,a,b)*(1-p_set(pb,pa,d,c+1)) + (1-p_game_adv(pa,a,b))*(1-p_set(pb,pa,d+1,c))\n",
    "\n",
    "def prob_tbmatch(pa,pb,a,b,c,d,e,f):\n",
    "    if e>=2:\n",
    "        return 1.0\n",
    "    elif f>=2:\n",
    "        return 0.0\n",
    "    else:\n",
    "        return prob_tbset(pa,pb,a,b,c,d)*prob_tbmatch(pa,pb,0,0,0,0,e+1, f) +\\\n",
    "               (1-prob_tbset(pa,pb,a,b,c,d))*prob_tbmatch(pa,pb,0,0,0,0,e, f+1)"
   ]
  },
  {
   "cell_type": "code",
   "execution_count": 10,
   "metadata": {
    "ExecuteTime": {
     "start_time": "2023-04-08T22:25:24.970174Z",
     "end_time": "2023-04-08T22:25:24.976696Z"
    }
   },
   "outputs": [],
   "source": [
    "pa = 0.62\n",
    "pb = 0.60\n",
    "\n",
    "a = 0\n",
    "b = 0\n",
    "c = 1\n",
    "d = 1\n",
    "e = 0\n",
    "f = 1"
   ]
  },
  {
   "cell_type": "code",
   "execution_count": 11,
   "metadata": {
    "ExecuteTime": {
     "start_time": "2023-04-08T22:25:25.969451Z",
     "end_time": "2023-04-08T22:25:28.113127Z"
    }
   },
   "outputs": [
    {
     "name": "stdout",
     "output_type": "stream",
     "text": [
      "prob of point A 0.4, B 0.6\n",
      "prob of current game A 0.26 B 0.74\n",
      "prob of current set A 0.56 B 0.44\n",
      "prob of current match A 0.32 B 0.68\n"
     ]
    }
   ],
   "source": [
    "print(f'prob of point A {round(1-pb,2)}, B {round(pb,2)}')\n",
    "print(f'prob of current game A {round(1-p_game_adv(pb,b,a),2)} B {round(p_game_adv(pb,b,a),2)}')\n",
    "print(f'prob of current set A {round(1-prob_tbset(pb,pa,b,a,d,c),2)} B {round(prob_tbset(pb,pa,b,a,d,c),2)}')\n",
    "print(f'prob of current match A {round(1-prob_tbmatch(pb,pa,b,a,d,c,f,e),2)} B {round(prob_tbmatch(pb,pa,b,a,d,c,f,e),2)}')"
   ]
  },
  {
   "cell_type": "code",
   "execution_count": 12,
   "metadata": {
    "ExecuteTime": {
     "start_time": "2023-04-08T22:25:29.906611Z",
     "end_time": "2023-04-08T22:25:30.679007Z"
    }
   },
   "outputs": [
    {
     "name": "stdout",
     "output_type": "stream",
     "text": [
      "prob of winning a service game A 0.78 B 0.74\n",
      "prob of winning a service set A 0.57 B 0.43\n"
     ]
    }
   ],
   "source": [
    "print(f'prob of winning a service game A {round(p_game_adv(pa,0,0),2) } B {round(p_game_adv(pb,0,0),2)}')\n",
    "print(f'prob of winning a service set A {round(prob_tbset(pa,pb,0,0,0,0),2)} B {round(prob_tbset(pb,pa,0,0,0,0),2)}')"
   ]
  },
  {
   "cell_type": "code",
   "execution_count": 13,
   "metadata": {},
   "outputs": [
    {
     "name": "stdout",
     "output_type": "stream",
     "text": [
      "0.5325241849696962\n"
     ]
    },
    {
     "ename": "NameError",
     "evalue": "name 'tie_game_sim' is not defined",
     "output_type": "error",
     "traceback": [
      "\u001B[0;31m---------------------------------------------------------------------------\u001B[0m",
      "\u001B[0;31mNameError\u001B[0m                                 Traceback (most recent call last)",
      "Cell \u001B[0;32mIn[13], line 6\u001B[0m\n\u001B[1;32m      4\u001B[0m wins \u001B[38;5;241m=\u001B[39m []\n\u001B[1;32m      5\u001B[0m \u001B[38;5;28;01mfor\u001B[39;00m _ \u001B[38;5;129;01min\u001B[39;00m \u001B[38;5;28mrange\u001B[39m(N):\n\u001B[0;32m----> 6\u001B[0m     wins\u001B[38;5;241m.\u001B[39mappend(\u001B[43mtie_game_sim\u001B[49m(\u001B[38;5;241m0.62\u001B[39m,\u001B[38;5;241m0.6\u001B[39m))\n\u001B[1;32m      8\u001B[0m \u001B[38;5;28mprint\u001B[39m(\u001B[38;5;28msum\u001B[39m(wins)\u001B[38;5;241m/\u001B[39mN)\n",
      "\u001B[0;31mNameError\u001B[0m: name 'tie_game_sim' is not defined"
     ]
    }
   ],
   "source": [
    "N = 1000000\n",
    "print(p_tiebreak(0.62,0.6))\n",
    "\n",
    "wins = []\n",
    "for _ in range(N):\n",
    "    wins.append(tie_game_sim(0.62,0.6))\n",
    "\n",
    "print(sum(wins)/N)"
   ]
  },
  {
   "cell_type": "code",
   "execution_count": 14,
   "metadata": {
    "ExecuteTime": {
     "start_time": "2023-04-08T22:25:35.427876Z",
     "end_time": "2023-04-08T22:25:35.431823Z"
    }
   },
   "outputs": [
    {
     "data": {
      "text/plain": "0.77586270623177"
     },
     "execution_count": 14,
     "metadata": {},
     "output_type": "execute_result"
    }
   ],
   "source": [
    "p_game_adv(0.62)"
   ]
  },
  {
   "cell_type": "code",
   "execution_count": 15,
   "metadata": {},
   "outputs": [
    {
     "ename": "NameError",
     "evalue": "name 'single_game_sim' is not defined",
     "output_type": "error",
     "traceback": [
      "\u001B[0;31m---------------------------------------------------------------------------\u001B[0m",
      "\u001B[0;31mNameError\u001B[0m                                 Traceback (most recent call last)",
      "Cell \u001B[0;32mIn[15], line 4\u001B[0m\n\u001B[1;32m      2\u001B[0m wins \u001B[38;5;241m=\u001B[39m []\n\u001B[1;32m      3\u001B[0m \u001B[38;5;28;01mfor\u001B[39;00m _ \u001B[38;5;129;01min\u001B[39;00m \u001B[38;5;28mrange\u001B[39m(N):\n\u001B[0;32m----> 4\u001B[0m     wins\u001B[38;5;241m.\u001B[39mappend(\u001B[43msingle_game_sim\u001B[49m(\u001B[38;5;241m0.62\u001B[39m))\n\u001B[1;32m      6\u001B[0m \u001B[38;5;28mprint\u001B[39m(\u001B[38;5;28msum\u001B[39m(wins)\u001B[38;5;241m/\u001B[39mN)\n",
      "\u001B[0;31mNameError\u001B[0m: name 'single_game_sim' is not defined"
     ]
    }
   ],
   "source": [
    "N = 5000000\n",
    "wins = []\n",
    "for _ in range(N):\n",
    "    wins.append(single_game_sim(0.62))\n",
    "\n",
    "print(sum(wins)/N)"
   ]
  },
  {
   "cell_type": "code",
   "execution_count": 16,
   "metadata": {
    "ExecuteTime": {
     "start_time": "2023-04-08T22:25:37.236284Z",
     "end_time": "2023-04-08T22:25:37.245199Z"
    }
   },
   "outputs": [],
   "source": [
    "#match odds\n",
    "#current game\n",
    "#next game\n",
    "#set 1 winner\n",
    "#set 2 winner\n",
    "#set betting\n",
    "#total games over/under"
   ]
  },
  {
   "cell_type": "code",
   "execution_count": 17,
   "metadata": {
    "ExecuteTime": {
     "start_time": "2023-04-08T22:26:05.849760Z",
     "end_time": "2023-04-08T22:26:05.892923Z"
    }
   },
   "outputs": [],
   "source": [
    "import random\n",
    "def sim_game(p,a,b,N):\n",
    "    #server\n",
    "    wins = 0\n",
    "    losses = 0\n",
    "\n",
    "    win_scores = {0:0,\n",
    "                  1:0,\n",
    "                  2:0,\n",
    "                  3:0}\n",
    "\n",
    "    for count in range(N):\n",
    "        game_over = False\n",
    "        game_state = [a,b]\n",
    "        while not(game_over):\n",
    "            if (game_state[0]<3 and game_state[1]<3) or (game_state[0]==3 and game_state[1]==3):\n",
    "                if random.random()<=p:\n",
    "                    game_state[0]+=1\n",
    "                else:\n",
    "                    game_state[1]+=1\n",
    "            elif game_state[0]==3 and game_state[1]<3:\n",
    "                if random.random()<=p:\n",
    "                    wins+=1\n",
    "                    game_over = True\n",
    "                    win_scores[game_state[1]] +=1\n",
    "                else:\n",
    "                    game_state[1]+=1\n",
    "            elif game_state[0]<3 and game_state[1]==3:\n",
    "                if random.random()<=p:\n",
    "                    game_state[0]+=1\n",
    "                else:\n",
    "                    losses+=1\n",
    "                    game_over = True\n",
    "            elif game_state[0]==4 and game_state[1]==3:\n",
    "                if random.random()<=p:\n",
    "                    wins+=1\n",
    "                    game_over = True\n",
    "                    win_scores[game_state[1]] +=1\n",
    "                else:\n",
    "                    game_state[0]-=1\n",
    "            elif game_state[0]==3 and game_state[1]==4:\n",
    "                if random.random()<=p:\n",
    "                    game_state[1]-=1\n",
    "                else:\n",
    "                    losses+=1\n",
    "                    game_over=True\n",
    "\n",
    "    win_probs = {}\n",
    "    for k, v in win_scores.items():\n",
    "        win_probs[k] = round(v/wins,2)\n",
    "\n",
    "    return round(wins/N,2), win_probs"
   ]
  },
  {
   "cell_type": "code",
   "execution_count": 18,
   "metadata": {
    "ExecuteTime": {
     "start_time": "2023-04-08T22:26:07.750827Z",
     "end_time": "2023-04-08T22:26:07.771231Z"
    }
   },
   "outputs": [],
   "source": [
    "def single_game_sim(pa, a=0, b=0):\n",
    "    #think about this for different servers\n",
    "\n",
    "\n",
    "    p = pa\n",
    "    game_state = [a,b]\n",
    "    game_over = False\n",
    "\n",
    "    win = False\n",
    "    while not(game_over):\n",
    "        if (game_state[0]<3 and game_state[1]<3) or (game_state[0]==3 and game_state[1]==3):\n",
    "            if random.random()<=p:\n",
    "                game_state[0]+=1\n",
    "            else:\n",
    "                game_state[1]+=1\n",
    "        elif game_state[0]==3 and game_state[1]<3:\n",
    "            if random.random()<=p:\n",
    "                win = True\n",
    "                game_over = True\n",
    "            else:\n",
    "                game_state[1]+=1\n",
    "        elif game_state[0]<3 and game_state[1]==3:\n",
    "            if random.random()<=p:\n",
    "                game_state[0]+=1\n",
    "            else:\n",
    "                game_over = True\n",
    "        elif game_state[0]==4 and game_state[1]==3:\n",
    "            if random.random()<=p:\n",
    "                win = True\n",
    "                game_over = True\n",
    "            else:\n",
    "                game_state[0]-=1\n",
    "        elif game_state[0]==3 and game_state[1]==4:\n",
    "            if random.random()<=p:\n",
    "                game_state[1]-=1\n",
    "            else:\n",
    "                game_over=True\n",
    "\n",
    "    return win\n",
    "\n",
    "def tie_game_sim(pa,pb,a=0, b=0):\n",
    "    #think about this for different servers - here there could be a contradiction\n",
    "    #it works out the server from the score so be careful here\n",
    "\n",
    "    game_over = False\n",
    "    game_state = [a,b] #have to work out the serving given the game state\n",
    "    serve_count = a+b\n",
    "\n",
    "    win = False\n",
    "    while not(game_over):\n",
    "        if (game_state[0]==0 and game_state[1]==0):\n",
    "            if random.random()<=pa:\n",
    "                game_state[0]+=1\n",
    "            else:\n",
    "                game_state[1]+=1\n",
    "            serve_count +=1 #change server after first serve otherwise every two this is the first serve\n",
    "\n",
    "        elif (game_state[0]>=6 and game_state[0]-game_state[1]>=1):\n",
    "            if (serve_count % 4 == 1 ) or (serve_count % 4 ==2):\n",
    "                if random.random()<=pb:\n",
    "                    game_state[1]+=1\n",
    "                else:\n",
    "                    win = True\n",
    "                    game_over = True\n",
    "            else:\n",
    "                if random.random()<=pa:\n",
    "                    win = True\n",
    "                    game_over = True\n",
    "                else:\n",
    "                    game_state[1]+=1\n",
    "            serve_count +=1\n",
    "\n",
    "        elif (game_state[1]>=6 and game_state[1]-game_state[0]>=1):\n",
    "            if (serve_count % 4 == 1) or (serve_count %4 ==2):\n",
    "                if random.random()<=pb:\n",
    "                    game_over = True\n",
    "                else:\n",
    "                    game_state[0]+=1\n",
    "            else:\n",
    "                if random.random()<=pa:\n",
    "                    game_state[0]+=1\n",
    "                else:\n",
    "                    game_over = True\n",
    "            serve_count+=1\n",
    "        else:\n",
    "            if (serve_count % 4 == 1) or (serve_count %4 ==2):\n",
    "                if random.random()<=pb:\n",
    "                    game_state[1]+=1\n",
    "                else:\n",
    "                    game_state[0]+=1\n",
    "            else:\n",
    "                if random.random()<=pa:\n",
    "                    game_state[0]+=1\n",
    "                else:\n",
    "                    game_state[1]+=1\n",
    "            serve_count+=1\n",
    "    return win\n",
    "\n",
    "\n",
    "def single_set_sim(server,pa,pb, a=0, b=0, c=0, d=0):\n",
    "    #this can be tidied #check this it isnt quite right\n",
    "    game_state = [a,b]\n",
    "    set_state = [c,d]\n",
    "    set_wins = 0\n",
    "    set_over = False\n",
    "\n",
    "    while not set_over:\n",
    "        if (set_state[0]==5 and set_state[1]<5) or (set_state[0]==6 and set_state[1]==5):\n",
    "            if server:\n",
    "                if single_game_sim(pa, game_state[0],game_state[1]):\n",
    "                    set_wins+=1\n",
    "                    set_over=True\n",
    "                else:\n",
    "                    set_state[1]+=1\n",
    "                    game_state[0]=0\n",
    "                    game_state[1]=0\n",
    "            else:\n",
    "                if single_game_sim(pb, game_state[1], game_state[0]):#this is now switched in single game\n",
    "                    set_state[1]+=1\n",
    "                    game_state[0]=0\n",
    "                    game_state[1]=0\n",
    "                else:\n",
    "                    set_wins+=1\n",
    "                    set_over=True\n",
    "            server = not(server)\n",
    "\n",
    "        elif (set_state[0]<5 and set_state[1]==5) or (set_state[0]==5 and set_state[1]==6):\n",
    "            if server:\n",
    "                if single_game_sim(pa,game_state[0], game_state[1]):\n",
    "                    set_state[0]+=1\n",
    "                    game_state[0]=0\n",
    "                    game_state[1]=0\n",
    "                else:\n",
    "                    set_over=True\n",
    "            else:\n",
    "                if single_game_sim(pb, game_state[1], game_state[0]):\n",
    "                    set_over=True\n",
    "                else:\n",
    "                    set_state[0]+=1\n",
    "                    game_state[0]=0\n",
    "                    game_state[1]=0\n",
    "            server = not(server)\n",
    "\n",
    "        elif (set_state[0]==5 and set_state[1]==5) or (set_state[0]<5 and set_state[1]<5):\n",
    "            if server:\n",
    "                if single_game_sim(pa, game_state[0], game_state[1]):\n",
    "                    set_state[0]+=1\n",
    "                else:\n",
    "                    set_state[1]+=1\n",
    "            else:\n",
    "                if single_game_sim(pb, game_state[1], game_state[0]):\n",
    "                    set_state[1]+=1\n",
    "                else:\n",
    "                    set_state[0]+=1\n",
    "            game_state[0]=0\n",
    "            game_state[1]=0\n",
    "            server = not(server)\n",
    "\n",
    "        elif set_state[0]==6 and set_state[1]==6:\n",
    "            if server: #check this as it is a tiebreak #here be careful already working out server in the tie\n",
    "                if tie_game_sim(pa,pb, game_state[0],game_state[1]):\n",
    "                    set_wins +=1\n",
    "                    set_over = True\n",
    "                else:\n",
    "                    set_over = True\n",
    "            else:\n",
    "                if tie_game_sim(pb,pa, game_state[1], game_state[0]):\n",
    "                    set_over = True\n",
    "                else:\n",
    "                    set_wins +=1\n",
    "                    set_over = True\n",
    "    return set_wins\n",
    "\n",
    "def single_match_sim(server,pa,pb,a=0,b=0,c=0,d=0,e=0,f=0):\n",
    "\n",
    "    set_score = [e,f]\n",
    "\n",
    "    if set_score[0]==1 and set_score[1]==1: #final set\n",
    "        if single_set_sim(server,pa,pb,a,b,c,d):\n",
    "            return True\n",
    "        else:\n",
    "            return False\n",
    "    elif set_score[0]==1 and set_score[1]==0:#second set\n",
    "        if single_set_sim(server,pa,pb,a,b,c,d):\n",
    "            return True\n",
    "        else:\n",
    "            if single_set_sim(server,pb,pa): #now into a final set\n",
    "                return False\n",
    "            else:\n",
    "                return True\n",
    "    elif set_score[0]==0 and set_score[1]==1:#second set\n",
    "        if single_set_sim(server,pa,pb,a,b,c,d):\n",
    "            if single_set_sim(server,pb,pa):\n",
    "                return False\n",
    "            else:\n",
    "                return True\n",
    "    elif set_score[0]==0 and set_score[0]==0:#first set - very clumsy i know\n",
    "        if single_set_sim(server,pa,pb,a,b,c,d): #wins the first set\n",
    "            if single_set_sim(server,pb,pa):#then 1-1\n",
    "                if single_set_sim(server,pa,pb):\n",
    "                    return True\n",
    "                else:\n",
    "                    return False\n",
    "            else:\n",
    "                return True\n",
    "        else: #loses the first set\n",
    "            if single_set_sim(server,pb,pa):\n",
    "                return False\n",
    "            else:\n",
    "                if single_set_sim(server,pa,pb):\n",
    "                    return True\n",
    "                else:\n",
    "                    return False\n",
    "\n"
   ]
  },
  {
   "cell_type": "code",
   "execution_count": 18,
   "metadata": {
    "ExecuteTime": {
     "start_time": "2023-04-08T22:26:08.880121Z",
     "end_time": "2023-04-08T22:26:08.884810Z"
    }
   },
   "outputs": [],
   "source": []
  },
  {
   "cell_type": "code",
   "execution_count": 19,
   "metadata": {
    "ExecuteTime": {
     "start_time": "2023-04-08T22:26:09.376624Z",
     "end_time": "2023-04-08T22:26:28.399857Z"
    }
   },
   "outputs": [
    {
     "name": "stdout",
     "output_type": "stream",
     "text": [
      "0.79\n"
     ]
    }
   ],
   "source": [
    "wins = []\n",
    "N = 1000000\n",
    "for _ in range(N):\n",
    "    wins.append(single_match_sim(True,0.63,0.55,6,6,6,6,0,0))\n",
    "\n",
    "print(round(sum(wins)/N,2))"
   ]
  },
  {
   "cell_type": "code",
   "execution_count": 20,
   "metadata": {
    "ExecuteTime": {
     "start_time": "2023-04-08T22:26:28.393006Z",
     "end_time": "2023-04-08T22:26:28.400127Z"
    }
   },
   "outputs": [],
   "source": [
    "#todo sort out service games i.e. wins regardless of who serves\n",
    "#edge cases so no errors\n",
    "#gather stats ##### still confused on the server stuff - this needs to be accurate"
   ]
  },
  {
   "cell_type": "code",
   "execution_count": null,
   "metadata": {},
   "outputs": [],
   "source": [
    "round(prob_tbmatch(0.63,0.55,6,6,6,6,0,0),2)"
   ]
  },
  {
   "cell_type": "code",
   "execution_count": null,
   "metadata": {},
   "outputs": [],
   "source": [
    "\n",
    "\n",
    "wins = []\n",
    "N = 1000000\n",
    "for _ in range(N):\n",
    "    wins.append(single_game_sim(0.65,1,2))\n",
    "\n",
    "print(round(sum(wins)/N,2))"
   ]
  },
  {
   "cell_type": "code",
   "execution_count": null,
   "metadata": {},
   "outputs": [],
   "source": [
    "round(p_game_adv(0.65,1,2),2)"
   ]
  },
  {
   "cell_type": "code",
   "execution_count": null,
   "metadata": {},
   "outputs": [],
   "source": [
    "sim_game(0.65,1,2,100000)"
   ]
  },
  {
   "cell_type": "code",
   "execution_count": null,
   "metadata": {},
   "outputs": [],
   "source": [
    "a_wins = []\n",
    "c_wins = []\n",
    "N = 4000000\n",
    "for _ in range(N):\n",
    "    a_wins.append(single_set_sim(True, 0.65, 0.6,3,0,0,3))\n",
    "print(sum(a_wins)/N)"
   ]
  },
  {
   "cell_type": "code",
   "execution_count": null,
   "metadata": {},
   "outputs": [],
   "source": [
    "round(prob_tbset(0.65,0.60,3,0,0,3),2)"
   ]
  },
  {
   "cell_type": "code",
   "execution_count": null,
   "metadata": {},
   "outputs": [],
   "source": [
    "#if this is the non sernver? my server is redundant really"
   ]
  },
  {
   "cell_type": "code",
   "execution_count": null,
   "metadata": {},
   "outputs": [],
   "source": [
    "a_wins = []\n",
    "c_wins = []\n",
    "N = 4000000\n",
    "for _ in range(N):\n",
    "    a_wins.append(single_set_sim(False, 0.65, 0.60,0,3,3,0))\n",
    "print(sum(a_wins)/N)"
   ]
  },
  {
   "cell_type": "code",
   "execution_count": null,
   "metadata": {},
   "outputs": [],
   "source": [
    "a_wins = []\n",
    "c_wins = []\n",
    "N = 4000000\n",
    "for _ in range(N):\n",
    "    a_wins.append(single_set_sim(True, 0.60, 0.65,3,0,0,3))\n",
    "print(1-sum(a_wins)/N)"
   ]
  },
  {
   "cell_type": "code",
   "execution_count": null,
   "metadata": {},
   "outputs": [],
   "source": [
    "(1-p_game_adv(0.60,3,0))*prob_tbset(0.65,0.60,0,0,4,0) + p_game_adv(0.60,3,0)*prob_tbset(0.65,0.60,0,0,3,1)"
   ]
  },
  {
   "cell_type": "code",
   "execution_count": null,
   "metadata": {},
   "outputs": [],
   "source": [
    "#now for the match"
   ]
  },
  {
   "cell_type": "code",
   "execution_count": null,
   "metadata": {},
   "outputs": [],
   "source": [
    "round(prob_tbmatch(0.63,0.55,2,1,4,3,0,0),2)"
   ]
  },
  {
   "cell_type": "code",
   "execution_count": null,
   "metadata": {},
   "outputs": [],
   "source": [
    "wins = []\n",
    "N = 1000000\n",
    "for _ in range(N):\n",
    "    wins.append(single_match_sim(True,0.63,0.55,2,1,4,3,0,0))\n",
    "\n",
    "print(round(sum(wins)/N,2))"
   ]
  },
  {
   "cell_type": "code",
   "execution_count": null,
   "metadata": {},
   "outputs": [],
   "source": [
    "#not the server"
   ]
  },
  {
   "cell_type": "code",
   "execution_count": null,
   "metadata": {},
   "outputs": [],
   "source": [
    "#1.57, 2.7\n",
    "cilic = 0.63\n",
    "musetti = 0.65\n",
    "wins = []\n",
    "N = 1000000\n",
    "for _ in range(N):\n",
    "    wins.append(single_match_sim(True,cilic,musetti,0,0,0,0,1,0))\n",
    "\n",
    "print(round(sum(wins)/N,2))"
   ]
  },
  {
   "cell_type": "code",
   "execution_count": null,
   "metadata": {},
   "outputs": [],
   "source": [
    "cilic_odds = round(1/(sum(wins)/N),2)"
   ]
  },
  {
   "cell_type": "code",
   "execution_count": null,
   "metadata": {},
   "outputs": [],
   "source": [
    "cilic_odds\n"
   ]
  },
  {
   "cell_type": "code",
   "execution_count": null,
   "metadata": {},
   "outputs": [],
   "source": [
    "musetti_odds = round(1/(1-(sum(wins)/N)),2)"
   ]
  },
  {
   "cell_type": "code",
   "execution_count": null,
   "metadata": {},
   "outputs": [],
   "source": [
    "musetti_odds"
   ]
  },
  {
   "cell_type": "code",
   "execution_count": null,
   "metadata": {},
   "outputs": [],
   "source": []
  },
  {
   "cell_type": "code",
   "execution_count": null,
   "metadata": {},
   "outputs": [],
   "source": []
  },
  {
   "cell_type": "code",
   "execution_count": null,
   "metadata": {},
   "outputs": [],
   "source": []
  },
  {
   "cell_type": "code",
   "execution_count": null,
   "metadata": {},
   "outputs": [],
   "source": [
    "(1-p_game_adv(0.55,1,2))*prob_tbmatch(0.63,0.55,0,0,5,3,0,0)+ p_game_adv(0.55,1,2)*prob_tbmatch(0.63,0.55,0,0,3,3,0,0)"
   ]
  },
  {
   "cell_type": "code",
   "execution_count": null,
   "metadata": {},
   "outputs": [],
   "source": []
  }
 ],
 "metadata": {
  "kernelspec": {
   "display_name": "Python 3 (ipykernel)",
   "language": "python",
   "name": "python3"
  },
  "language_info": {
   "codemirror_mode": {
    "name": "ipython",
    "version": 3
   },
   "file_extension": ".py",
   "mimetype": "text/x-python",
   "name": "python",
   "nbconvert_exporter": "python",
   "pygments_lexer": "ipython3",
   "version": "3.8.12"
  }
 },
 "nbformat": 4,
 "nbformat_minor": 1
}

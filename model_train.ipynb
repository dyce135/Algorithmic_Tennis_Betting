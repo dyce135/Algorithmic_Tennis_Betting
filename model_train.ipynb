{
 "cells": [
  {
   "cell_type": "code",
   "execution_count": 2,
   "outputs": [],
   "source": [
    "import math\n",
    "import numpy as np\n",
    "import pandas as pd\n",
    "from sklearn.model_selection import train_test_split\n",
    "from sklearn.metrics import mean_absolute_error as mae\n",
    "import seq2seq_model\n",
    "from tensorflow.keras.models import load_model\n",
    "from matplotlib import pyplot as plt\n"
   ],
   "metadata": {
    "collapsed": false,
    "ExecuteTime": {
     "end_time": "2023-05-03T13:31:46.419190078Z",
     "start_time": "2023-05-03T13:31:46.416545017Z"
    }
   }
  },
  {
   "cell_type": "code",
   "execution_count": 3,
   "outputs": [
    {
     "data": {
      "text/plain": "                     lpt odds  r1 spread    r1 pup  r2 spread    r2 pup  \\\n2018-07-11 16:36:42  0.582314   0.005831  0.076386   0.016807  0.002012   \n2018-07-11 16:36:44  0.582350   0.005831  0.076386   0.016807  0.002012   \n2018-07-11 16:36:46  0.582387   0.005831  0.074565   0.024288  0.002396   \n2018-07-11 16:36:48  0.582423   0.005831  0.072341   0.029768  0.003003   \n2018-07-11 16:36:50  0.582460   0.005831  0.070063   0.032151  0.003397   \n...                       ...        ...       ...        ...       ...   \n2018-07-11 19:32:56  0.000000   1.595506  0.206208   0.048309  0.725523   \n2018-07-11 19:32:58  0.000000   1.595506  0.206208   0.048309  0.725523   \n2018-07-11 19:33:00  0.000000   1.595506  0.206208   0.048309  0.725523   \n2018-07-11 19:33:02  0.000000   1.595506  0.206208   0.048309  0.725523   \n2018-07-11 19:33:04  0.000000   1.595506  0.206208   0.048309  0.725523   \n\n                     r1_sets_to_win  r2_sets_to_win  enhanced_markov  \n2018-07-11 16:36:42             3.0             3.0         0.507162  \n2018-07-11 16:36:44             3.0             3.0         0.507162  \n2018-07-11 16:36:46             3.0             3.0         0.507162  \n2018-07-11 16:36:48             3.0             3.0         0.507162  \n2018-07-11 16:36:50             3.0             3.0         0.507162  \n...                             ...             ...              ...  \n2018-07-11 19:32:56             2.0             0.0         0.000000  \n2018-07-11 19:32:58             2.0             0.0         0.000000  \n2018-07-11 19:33:00             2.0             0.0         0.000000  \n2018-07-11 19:33:02             2.0             0.0         0.000000  \n2018-07-11 19:33:04             2.0             0.0         0.000000  \n\n[5292 rows x 8 columns]",
      "text/html": "<div>\n<style scoped>\n    .dataframe tbody tr th:only-of-type {\n        vertical-align: middle;\n    }\n\n    .dataframe tbody tr th {\n        vertical-align: top;\n    }\n\n    .dataframe thead th {\n        text-align: right;\n    }\n</style>\n<table border=\"1\" class=\"dataframe\">\n  <thead>\n    <tr style=\"text-align: right;\">\n      <th></th>\n      <th>lpt odds</th>\n      <th>r1 spread</th>\n      <th>r1 pup</th>\n      <th>r2 spread</th>\n      <th>r2 pup</th>\n      <th>r1_sets_to_win</th>\n      <th>r2_sets_to_win</th>\n      <th>enhanced_markov</th>\n    </tr>\n  </thead>\n  <tbody>\n    <tr>\n      <th>2018-07-11 16:36:42</th>\n      <td>0.582314</td>\n      <td>0.005831</td>\n      <td>0.076386</td>\n      <td>0.016807</td>\n      <td>0.002012</td>\n      <td>3.0</td>\n      <td>3.0</td>\n      <td>0.507162</td>\n    </tr>\n    <tr>\n      <th>2018-07-11 16:36:44</th>\n      <td>0.582350</td>\n      <td>0.005831</td>\n      <td>0.076386</td>\n      <td>0.016807</td>\n      <td>0.002012</td>\n      <td>3.0</td>\n      <td>3.0</td>\n      <td>0.507162</td>\n    </tr>\n    <tr>\n      <th>2018-07-11 16:36:46</th>\n      <td>0.582387</td>\n      <td>0.005831</td>\n      <td>0.074565</td>\n      <td>0.024288</td>\n      <td>0.002396</td>\n      <td>3.0</td>\n      <td>3.0</td>\n      <td>0.507162</td>\n    </tr>\n    <tr>\n      <th>2018-07-11 16:36:48</th>\n      <td>0.582423</td>\n      <td>0.005831</td>\n      <td>0.072341</td>\n      <td>0.029768</td>\n      <td>0.003003</td>\n      <td>3.0</td>\n      <td>3.0</td>\n      <td>0.507162</td>\n    </tr>\n    <tr>\n      <th>2018-07-11 16:36:50</th>\n      <td>0.582460</td>\n      <td>0.005831</td>\n      <td>0.070063</td>\n      <td>0.032151</td>\n      <td>0.003397</td>\n      <td>3.0</td>\n      <td>3.0</td>\n      <td>0.507162</td>\n    </tr>\n    <tr>\n      <th>...</th>\n      <td>...</td>\n      <td>...</td>\n      <td>...</td>\n      <td>...</td>\n      <td>...</td>\n      <td>...</td>\n      <td>...</td>\n      <td>...</td>\n    </tr>\n    <tr>\n      <th>2018-07-11 19:32:56</th>\n      <td>0.000000</td>\n      <td>1.595506</td>\n      <td>0.206208</td>\n      <td>0.048309</td>\n      <td>0.725523</td>\n      <td>2.0</td>\n      <td>0.0</td>\n      <td>0.000000</td>\n    </tr>\n    <tr>\n      <th>2018-07-11 19:32:58</th>\n      <td>0.000000</td>\n      <td>1.595506</td>\n      <td>0.206208</td>\n      <td>0.048309</td>\n      <td>0.725523</td>\n      <td>2.0</td>\n      <td>0.0</td>\n      <td>0.000000</td>\n    </tr>\n    <tr>\n      <th>2018-07-11 19:33:00</th>\n      <td>0.000000</td>\n      <td>1.595506</td>\n      <td>0.206208</td>\n      <td>0.048309</td>\n      <td>0.725523</td>\n      <td>2.0</td>\n      <td>0.0</td>\n      <td>0.000000</td>\n    </tr>\n    <tr>\n      <th>2018-07-11 19:33:02</th>\n      <td>0.000000</td>\n      <td>1.595506</td>\n      <td>0.206208</td>\n      <td>0.048309</td>\n      <td>0.725523</td>\n      <td>2.0</td>\n      <td>0.0</td>\n      <td>0.000000</td>\n    </tr>\n    <tr>\n      <th>2018-07-11 19:33:04</th>\n      <td>0.000000</td>\n      <td>1.595506</td>\n      <td>0.206208</td>\n      <td>0.048309</td>\n      <td>0.725523</td>\n      <td>2.0</td>\n      <td>0.0</td>\n      <td>0.000000</td>\n    </tr>\n  </tbody>\n</table>\n<p>5292 rows × 8 columns</p>\n</div>"
     },
     "execution_count": 3,
     "metadata": {},
     "output_type": "execute_result"
    }
   ],
   "source": [
    "df = pd.read_csv('Data/4105819v2474763.csv', index_col=0)\n",
    "df"
   ],
   "metadata": {
    "collapsed": false,
    "ExecuteTime": {
     "end_time": "2023-05-03T13:31:46.606214810Z",
     "start_time": "2023-05-03T13:31:46.583272015Z"
    }
   }
  },
  {
   "cell_type": "code",
   "execution_count": 4,
   "outputs": [
    {
     "data": {
      "text/plain": "array([[0.58231363, 0.0058309 , 0.07638615, ..., 3.        , 3.        ,\n        0.50716188],\n       [0.58235018, 0.0058309 , 0.07638615, ..., 3.        , 3.        ,\n        0.50716188],\n       [0.58238673, 0.0058309 , 0.07456494, ..., 3.        , 3.        ,\n        0.50716188],\n       ...,\n       [0.        , 1.59550562, 0.20620843, ..., 2.        , 0.        ,\n        0.        ],\n       [0.        , 1.59550562, 0.20620843, ..., 2.        , 0.        ,\n        0.        ],\n       [0.        , 1.59550562, 0.20620843, ..., 2.        , 0.        ,\n        0.        ]])"
     },
     "execution_count": 4,
     "metadata": {},
     "output_type": "execute_result"
    }
   ],
   "source": [
    "data = df.to_numpy()\n",
    "data"
   ],
   "metadata": {
    "collapsed": false,
    "ExecuteTime": {
     "end_time": "2023-05-03T13:31:51.189401211Z",
     "start_time": "2023-05-03T13:31:51.186716370Z"
    }
   }
  },
  {
   "cell_type": "code",
   "execution_count": 5,
   "outputs": [],
   "source": [
    "train, test = train_test_split(data, test_size=0.2, shuffle=False)"
   ],
   "metadata": {
    "collapsed": false,
    "ExecuteTime": {
     "end_time": "2023-05-03T13:31:58.337432026Z",
     "start_time": "2023-05-03T13:31:58.334186093Z"
    }
   }
  },
  {
   "cell_type": "code",
   "execution_count": 18,
   "outputs": [
    {
     "name": "stdout",
     "output_type": "stream",
     "text": [
      "WARNING:tensorflow:Layer lstm_2 will not use cuDNN kernels since it doesn't meet the criteria. It will use a generic GPU kernel as fallback when running on GPU.\n",
      "Epoch 1/10\n",
      "31/31 [==============================] - 11s 286ms/step - loss: 0.0207 - mae: 0.1156\n",
      "Epoch 2/10\n",
      "31/31 [==============================] - 9s 290ms/step - loss: 0.0079 - mae: 0.0715\n",
      "Epoch 3/10\n",
      "31/31 [==============================] - 9s 287ms/step - loss: 0.0049 - mae: 0.0539\n",
      "Epoch 4/10\n",
      "31/31 [==============================] - 9s 287ms/step - loss: 0.0038 - mae: 0.0463\n",
      "Epoch 5/10\n",
      "31/31 [==============================] - 9s 289ms/step - loss: 0.0031 - mae: 0.0412\n",
      "Epoch 6/10\n",
      "31/31 [==============================] - 9s 285ms/step - loss: 0.0029 - mae: 0.0394\n",
      "Epoch 7/10\n",
      "31/31 [==============================] - 9s 287ms/step - loss: 0.0024 - mae: 0.0361\n",
      "Epoch 8/10\n",
      "31/31 [==============================] - 9s 285ms/step - loss: 0.0023 - mae: 0.0346\n",
      "Epoch 9/10\n",
      "31/31 [==============================] - 9s 283ms/step - loss: 0.0020 - mae: 0.0320\n",
      "Epoch 10/10\n",
      "31/31 [==============================] - 9s 284ms/step - loss: 0.0021 - mae: 0.0323\n",
      "Model: \"sequential_2\"\n",
      "_________________________________________________________________\n",
      " Layer (type)                Output Shape              Param #   \n",
      "=================================================================\n",
      " conv_lstm2d_2 (ConvLSTM2D)  (None, 1, 88, 64)         55552     \n",
      "                                                                 \n",
      " flatten_2 (Flatten)         (None, 5632)              0         \n",
      "                                                                 \n",
      " repeat_vector_2 (RepeatVect  (None, 90, 5632)         0         \n",
      " or)                                                             \n",
      "                                                                 \n",
      " lstm_2 (LSTM)               (None, 90, 200)           4666400   \n",
      "                                                                 \n",
      " time_distributed_4 (TimeDis  (None, 90, 100)          20100     \n",
      " tributed)                                                       \n",
      "                                                                 \n",
      " time_distributed_5 (TimeDis  (None, 90, 8)            808       \n",
      " tributed)                                                       \n",
      "                                                                 \n",
      "=================================================================\n",
      "Total params: 4,742,860\n",
      "Trainable params: 4,742,860\n",
      "Non-trainable params: 0\n",
      "_________________________________________________________________\n"
     ]
    }
   ],
   "source": [
    "model, history = seq2seq_model.convlstm_seq2seq_fit(train, n_length=90, n_steps=3, features_list=range(1), features=8)\n",
    "model.summary()"
   ],
   "metadata": {
    "collapsed": false,
    "ExecuteTime": {
     "end_time": "2023-05-03T13:51:07.345608168Z",
     "start_time": "2023-05-03T13:49:35.975365894Z"
    }
   }
  },
  {
   "cell_type": "code",
   "execution_count": 20,
   "outputs": [
    {
     "name": "stdout",
     "output_type": "stream",
     "text": [
      "INFO:tensorflow:Assets written to: seq2seq_model/assets\n"
     ]
    }
   ],
   "source": [
    "model.save(\"seq2seq_model\", save_format='tf')"
   ],
   "metadata": {
    "collapsed": false,
    "ExecuteTime": {
     "end_time": "2023-05-03T13:51:24.016639950Z",
     "start_time": "2023-05-03T13:51:21.106882878Z"
    }
   }
  },
  {
   "cell_type": "code",
   "execution_count": 9,
   "outputs": [
    {
     "data": {
      "text/plain": "[<matplotlib.lines.Line2D at 0x7fba204cf250>]"
     },
     "execution_count": 9,
     "metadata": {},
     "output_type": "execute_result"
    },
    {
     "data": {
      "text/plain": "<Figure size 640x480 with 1 Axes>",
      "image/png": "[encoded data removed]"
     },
     "metadata": {},
     "output_type": "display_data"
    }
   ],
   "source": [
    "plt.plot(history.history['mae'])"
   ],
   "metadata": {
    "collapsed": false,
    "ExecuteTime": {
     "end_time": "2023-05-03T13:35:07.074970323Z",
     "start_time": "2023-05-03T13:35:07.001555585Z"
    }
   }
  },
  {
   "cell_type": "code",
   "execution_count": 22,
   "outputs": [
    {
     "name": "stdout",
     "output_type": "stream",
     "text": [
      "WARNING:tensorflow:Layer lstm_2 will not use cuDNN kernels since it doesn't meet the criteria. It will use a generic GPU kernel as fallback when running on GPU.\n",
      "Model: \"sequential_2\"\n",
      "_________________________________________________________________\n",
      " Layer (type)                Output Shape              Param #   \n",
      "=================================================================\n",
      " conv_lstm2d_2 (ConvLSTM2D)  (None, 1, 88, 64)         55552     \n",
      "                                                                 \n",
      " flatten_2 (Flatten)         (None, 5632)              0         \n",
      "                                                                 \n",
      " repeat_vector_2 (RepeatVect  (None, 90, 5632)         0         \n",
      " or)                                                             \n",
      "                                                                 \n",
      " lstm_2 (LSTM)               (None, 90, 200)           4666400   \n",
      "                                                                 \n",
      " time_distributed_4 (TimeDis  (None, 90, 100)          20100     \n",
      " tributed)                                                       \n",
      "                                                                 \n",
      " time_distributed_5 (TimeDis  (None, 90, 8)            808       \n",
      " tributed)                                                       \n",
      "                                                                 \n",
      "=================================================================\n",
      "Total params: 4,742,860\n",
      "Trainable params: 4,742,860\n",
      "Non-trainable params: 0\n",
      "_________________________________________________________________\n"
     ]
    }
   ],
   "source": [
    "model = load_model(\"seq2seq_model\")\n",
    "model.summary()"
   ],
   "metadata": {
    "collapsed": false,
    "ExecuteTime": {
     "end_time": "2023-05-03T13:51:37.646106851Z",
     "start_time": "2023-05-03T13:51:36.589257622Z"
    }
   }
  },
  {
   "cell_type": "code",
   "execution_count": 32,
   "outputs": [
    {
     "name": "stdout",
     "output_type": "stream",
     "text": [
      "(1045980, 8)\n",
      "(270, 8)\n",
      "1/1 [==============================] - 0s 22ms/step\n",
      "[0.47880495 0.43986052 0.39848635 0.37410286 0.35672984 0.3431468\n",
      " 0.33189964 0.32254255 0.31491628 0.30849543 0.30304113 0.2984368\n",
      " 0.29454926 0.29127175 0.2885166  0.28633678 0.28458166 0.28314027\n",
      " 0.28197315 0.2815779  0.28145212 0.28144598 0.28153405 0.28169408\n",
      " 0.28190663 0.28215453 0.28242233 0.28269818 0.28297085 0.28322503\n",
      " 0.28345641 0.2836634  0.28384557 0.28400344 0.28413808 0.28425136\n",
      " 0.2843455  0.2844225  0.2844847  0.28453434 0.2845737  0.28460452\n",
      " 0.28462875 0.2846479  0.28466326 0.28467605 0.2846872  0.2846974\n",
      " 0.2847075  0.2847176  0.28472817 0.28473943 0.2847517  0.28476465\n",
      " 0.2847785  0.28479317 0.28480858 0.2848246  0.2848412  0.28485796\n",
      " 0.28487515 0.28489238 0.28490952 0.2849267  0.28494355 0.2849601\n",
      " 0.2849762  0.28499192 0.285007   0.28502172 0.2850356  0.285049\n",
      " 0.28506175 0.28507388 0.2850853  0.2850961  0.28510627 0.28511572\n",
      " 0.28512484 0.28513315 0.285141   0.28514835 0.2851551  0.28516138\n",
      " 0.2851674  0.28517276 0.2851779  0.28518257 0.28518677 0.2851908 ]\n"
     ]
    },
    {
     "data": {
      "text/plain": "[<matplotlib.lines.Line2D at 0x7fba20120a00>]"
     },
     "execution_count": 32,
     "metadata": {},
     "output_type": "execute_result"
    },
    {
     "data": {
      "text/plain": "<Figure size 640x480 with 1 Axes>",
      "image/png": "[encoded data removed]"
     },
     "metadata": {},
     "output_type": "display_data"
    }
   ],
   "source": [
    "test_x, test_y = seq2seq_model.truncate_data(train, 270, 90, features=range(1))\n",
    "yhat = seq2seq_model.make_forecast(model, test_x, features=range(8))\n",
    "print(yhat[:, 2])\n",
    "plt.plot(yhat[:, 0])\n",
    "plt.plot(test_x[-1, :, 0])\n",
    "# y = np.concatenate((test_x[-1, :, 0], yhat[:, 0])"
   ],
   "metadata": {
    "collapsed": false,
    "ExecuteTime": {
     "end_time": "2023-05-03T13:56:59.041662469Z",
     "start_time": "2023-05-03T13:56:58.822461782Z"
    }
   }
  },
  {
   "cell_type": "code",
   "execution_count": 7,
   "outputs": [
    {
     "name": "stdout",
     "output_type": "stream",
     "text": [
      "(1415, 105, 5)\n",
      "(1415, 105, 5)\n",
      "(1415, 525, 5)\n",
      "10220\n",
      "6918\n"
     ]
    },
    {
     "ename": "ValueError",
     "evalue": "Found array with dim 3. None expected <= 2.",
     "output_type": "error",
     "traceback": [
      "\u001B[0;31m---------------------------------------------------------------------------\u001B[0m",
      "\u001B[0;31mValueError\u001B[0m                                Traceback (most recent call last)",
      "Cell \u001B[0;32mIn[7], line 6\u001B[0m\n\u001B[1;32m      4\u001B[0m \u001B[38;5;28mprint\u001B[39m(\u001B[38;5;28mlen\u001B[39m(data))\n\u001B[1;32m      5\u001B[0m \u001B[38;5;28mprint\u001B[39m(\u001B[38;5;241m3459\u001B[39m \u001B[38;5;241m+\u001B[39m \u001B[38;5;241m3459\u001B[39m)\n\u001B[0;32m----> 6\u001B[0m mae \u001B[38;5;241m=\u001B[39m \u001B[43mmae\u001B[49m\u001B[43m(\u001B[49m\u001B[43mtest_out\u001B[49m\u001B[43m,\u001B[49m\u001B[43m \u001B[49m\u001B[43mpredictions\u001B[49m\u001B[43m)\u001B[49m\n\u001B[1;32m      7\u001B[0m mse \u001B[38;5;241m=\u001B[39m mae\u001B[38;5;241m*\u001B[39m\u001B[38;5;241m*\u001B[39m\u001B[38;5;241m2\u001B[39m\n\u001B[1;32m      8\u001B[0m rmse \u001B[38;5;241m=\u001B[39m np\u001B[38;5;241m.\u001B[39msqrt(mse)\n",
      "File \u001B[0;32m~/anaconda3/envs/ML/lib/python3.10/site-packages/sklearn/metrics/_regression.py:196\u001B[0m, in \u001B[0;36mmean_absolute_error\u001B[0;34m(y_true, y_pred, sample_weight, multioutput)\u001B[0m\n\u001B[1;32m    141\u001B[0m \u001B[38;5;28;01mdef\u001B[39;00m \u001B[38;5;21mmean_absolute_error\u001B[39m(\n\u001B[1;32m    142\u001B[0m     y_true, y_pred, \u001B[38;5;241m*\u001B[39m, sample_weight\u001B[38;5;241m=\u001B[39m\u001B[38;5;28;01mNone\u001B[39;00m, multioutput\u001B[38;5;241m=\u001B[39m\u001B[38;5;124m\"\u001B[39m\u001B[38;5;124muniform_average\u001B[39m\u001B[38;5;124m\"\u001B[39m\n\u001B[1;32m    143\u001B[0m ):\n\u001B[1;32m    144\u001B[0m     \u001B[38;5;124;03m\"\"\"Mean absolute error regression loss.\u001B[39;00m\n\u001B[1;32m    145\u001B[0m \n\u001B[1;32m    146\u001B[0m \u001B[38;5;124;03m    Read more in the :ref:`User Guide <mean_absolute_error>`.\u001B[39;00m\n\u001B[0;32m   (...)\u001B[0m\n\u001B[1;32m    194\u001B[0m \u001B[38;5;124;03m    0.85...\u001B[39;00m\n\u001B[1;32m    195\u001B[0m \u001B[38;5;124;03m    \"\"\"\u001B[39;00m\n\u001B[0;32m--> 196\u001B[0m     y_type, y_true, y_pred, multioutput \u001B[38;5;241m=\u001B[39m \u001B[43m_check_reg_targets\u001B[49m\u001B[43m(\u001B[49m\n\u001B[1;32m    197\u001B[0m \u001B[43m        \u001B[49m\u001B[43my_true\u001B[49m\u001B[43m,\u001B[49m\u001B[43m \u001B[49m\u001B[43my_pred\u001B[49m\u001B[43m,\u001B[49m\u001B[43m \u001B[49m\u001B[43mmultioutput\u001B[49m\n\u001B[1;32m    198\u001B[0m \u001B[43m    \u001B[49m\u001B[43m)\u001B[49m\n\u001B[1;32m    199\u001B[0m     check_consistent_length(y_true, y_pred, sample_weight)\n\u001B[1;32m    200\u001B[0m     output_errors \u001B[38;5;241m=\u001B[39m np\u001B[38;5;241m.\u001B[39maverage(np\u001B[38;5;241m.\u001B[39mabs(y_pred \u001B[38;5;241m-\u001B[39m y_true), weights\u001B[38;5;241m=\u001B[39msample_weight, axis\u001B[38;5;241m=\u001B[39m\u001B[38;5;241m0\u001B[39m)\n",
      "File \u001B[0;32m~/anaconda3/envs/ML/lib/python3.10/site-packages/sklearn/metrics/_regression.py:101\u001B[0m, in \u001B[0;36m_check_reg_targets\u001B[0;34m(y_true, y_pred, multioutput, dtype)\u001B[0m\n\u001B[1;32m     67\u001B[0m \u001B[38;5;124;03m\"\"\"Check that y_true and y_pred belong to the same regression task.\u001B[39;00m\n\u001B[1;32m     68\u001B[0m \n\u001B[1;32m     69\u001B[0m \u001B[38;5;124;03mParameters\u001B[39;00m\n\u001B[0;32m   (...)\u001B[0m\n\u001B[1;32m     98\u001B[0m \u001B[38;5;124;03m    correct keyword.\u001B[39;00m\n\u001B[1;32m     99\u001B[0m \u001B[38;5;124;03m\"\"\"\u001B[39;00m\n\u001B[1;32m    100\u001B[0m check_consistent_length(y_true, y_pred)\n\u001B[0;32m--> 101\u001B[0m y_true \u001B[38;5;241m=\u001B[39m \u001B[43mcheck_array\u001B[49m\u001B[43m(\u001B[49m\u001B[43my_true\u001B[49m\u001B[43m,\u001B[49m\u001B[43m \u001B[49m\u001B[43mensure_2d\u001B[49m\u001B[38;5;241;43m=\u001B[39;49m\u001B[38;5;28;43;01mFalse\u001B[39;49;00m\u001B[43m,\u001B[49m\u001B[43m \u001B[49m\u001B[43mdtype\u001B[49m\u001B[38;5;241;43m=\u001B[39;49m\u001B[43mdtype\u001B[49m\u001B[43m)\u001B[49m\n\u001B[1;32m    102\u001B[0m y_pred \u001B[38;5;241m=\u001B[39m check_array(y_pred, ensure_2d\u001B[38;5;241m=\u001B[39m\u001B[38;5;28;01mFalse\u001B[39;00m, dtype\u001B[38;5;241m=\u001B[39mdtype)\n\u001B[1;32m    104\u001B[0m \u001B[38;5;28;01mif\u001B[39;00m y_true\u001B[38;5;241m.\u001B[39mndim \u001B[38;5;241m==\u001B[39m \u001B[38;5;241m1\u001B[39m:\n",
      "File \u001B[0;32m~/anaconda3/envs/ML/lib/python3.10/site-packages/sklearn/utils/validation.py:913\u001B[0m, in \u001B[0;36mcheck_array\u001B[0;34m(array, accept_sparse, accept_large_sparse, dtype, order, copy, force_all_finite, ensure_2d, allow_nd, ensure_min_samples, ensure_min_features, estimator, input_name)\u001B[0m\n\u001B[1;32m    908\u001B[0m     \u001B[38;5;28;01mraise\u001B[39;00m \u001B[38;5;167;01mValueError\u001B[39;00m(\n\u001B[1;32m    909\u001B[0m         \u001B[38;5;124m\"\u001B[39m\u001B[38;5;124mdtype=\u001B[39m\u001B[38;5;124m'\u001B[39m\u001B[38;5;124mnumeric\u001B[39m\u001B[38;5;124m'\u001B[39m\u001B[38;5;124m is not compatible with arrays of bytes/strings.\u001B[39m\u001B[38;5;124m\"\u001B[39m\n\u001B[1;32m    910\u001B[0m         \u001B[38;5;124m\"\u001B[39m\u001B[38;5;124mConvert your data to numeric values explicitly instead.\u001B[39m\u001B[38;5;124m\"\u001B[39m\n\u001B[1;32m    911\u001B[0m     )\n\u001B[1;32m    912\u001B[0m \u001B[38;5;28;01mif\u001B[39;00m \u001B[38;5;129;01mnot\u001B[39;00m allow_nd \u001B[38;5;129;01mand\u001B[39;00m array\u001B[38;5;241m.\u001B[39mndim \u001B[38;5;241m>\u001B[39m\u001B[38;5;241m=\u001B[39m \u001B[38;5;241m3\u001B[39m:\n\u001B[0;32m--> 913\u001B[0m     \u001B[38;5;28;01mraise\u001B[39;00m \u001B[38;5;167;01mValueError\u001B[39;00m(\n\u001B[1;32m    914\u001B[0m         \u001B[38;5;124m\"\u001B[39m\u001B[38;5;124mFound array with dim \u001B[39m\u001B[38;5;132;01m%d\u001B[39;00m\u001B[38;5;124m. \u001B[39m\u001B[38;5;132;01m%s\u001B[39;00m\u001B[38;5;124m expected <= 2.\u001B[39m\u001B[38;5;124m\"\u001B[39m\n\u001B[1;32m    915\u001B[0m         \u001B[38;5;241m%\u001B[39m (array\u001B[38;5;241m.\u001B[39mndim, estimator_name)\n\u001B[1;32m    916\u001B[0m     )\n\u001B[1;32m    918\u001B[0m \u001B[38;5;28;01mif\u001B[39;00m force_all_finite:\n\u001B[1;32m    919\u001B[0m     _assert_all_finite(\n\u001B[1;32m    920\u001B[0m         array,\n\u001B[1;32m    921\u001B[0m         input_name\u001B[38;5;241m=\u001B[39minput_name,\n\u001B[1;32m    922\u001B[0m         estimator_name\u001B[38;5;241m=\u001B[39mestimator_name,\n\u001B[1;32m    923\u001B[0m         allow_nan\u001B[38;5;241m=\u001B[39mforce_all_finite \u001B[38;5;241m==\u001B[39m \u001B[38;5;124m\"\u001B[39m\u001B[38;5;124mallow-nan\u001B[39m\u001B[38;5;124m\"\u001B[39m,\n\u001B[1;32m    924\u001B[0m     )\n",
      "\u001B[0;31mValueError\u001B[0m: Found array with dim 3. None expected <= 2."
     ]
    }
   ],
   "source": [
    "print(predictions.shape)\n",
    "print(test_out.shape)\n",
    "print(test_in.shape)\n",
    "print(len(data))\n",
    "print(3459 + 3459)\n",
    "mae = mae(test_out, predictions)\n",
    "mse = mae**2\n",
    "rmse = np.sqrt(mse)\n",
    "print(\"The mae for this prediction is: \" + str(mae))\n",
    "print(\"The mse for this prediction is: \" + str(mse))\n",
    "print(\"The rmse for this prediction is: \" + str(rmse))"
   ],
   "metadata": {
    "collapsed": false
   }
  },
  {
   "cell_type": "code",
   "execution_count": 8,
   "outputs": [
    {
     "ename": "ValueError",
     "evalue": "Must pass 2-d input. shape=(3459, 105, 5)",
     "output_type": "error",
     "traceback": [
      "\u001B[0;31m---------------------------------------------------------------------------\u001B[0m",
      "\u001B[0;31mValueError\u001B[0m                                Traceback (most recent call last)",
      "Cell \u001B[0;32mIn[8], line 2\u001B[0m\n\u001B[1;32m      1\u001B[0m validation \u001B[38;5;241m=\u001B[39m df[math\u001B[38;5;241m.\u001B[39mceil( \u001B[38;5;28mlen\u001B[39m(df) \u001B[38;5;241m*\u001B[39m \u001B[38;5;241m0.8\u001B[39m ):]\n\u001B[0;32m----> 2\u001B[0m df_pred \u001B[38;5;241m=\u001B[39m \u001B[43mpd\u001B[49m\u001B[38;5;241;43m.\u001B[39;49m\u001B[43mDataFrame\u001B[49m\u001B[43m(\u001B[49m\u001B[43mpredictions\u001B[49m\u001B[43m,\u001B[49m\u001B[43m \u001B[49m\u001B[43mcolumns\u001B[49m\u001B[43m \u001B[49m\u001B[38;5;241;43m=\u001B[39;49m\u001B[43m \u001B[49m\u001B[43m[\u001B[49m\u001B[38;5;124;43m'\u001B[39;49m\u001B[38;5;124;43mpred odds\u001B[39;49m\u001B[38;5;124;43m'\u001B[39;49m\u001B[43m,\u001B[49m\u001B[43m \u001B[49m\u001B[38;5;124;43m'\u001B[39;49m\u001B[38;5;124;43mpred r1 spread\u001B[39;49m\u001B[38;5;124;43m'\u001B[39;49m\u001B[43m,\u001B[49m\u001B[43m \u001B[49m\u001B[38;5;124;43m'\u001B[39;49m\u001B[38;5;124;43mpred r1 pup;\u001B[39;49m\u001B[38;5;124;43m'\u001B[39;49m\u001B[43m,\u001B[49m\u001B[43m \u001B[49m\u001B[38;5;124;43m'\u001B[39;49m\u001B[38;5;124;43mpred r2 spread\u001B[39;49m\u001B[38;5;124;43m'\u001B[39;49m\u001B[43m,\u001B[49m\u001B[43m \u001B[49m\u001B[38;5;124;43m'\u001B[39;49m\u001B[38;5;124;43mpred r2 pup\u001B[39;49m\u001B[38;5;124;43m'\u001B[39;49m\u001B[43m]\u001B[49m\u001B[43m)\u001B[49m\n\u001B[1;32m      3\u001B[0m df_pred\u001B[38;5;241m.\u001B[39mindex \u001B[38;5;241m=\u001B[39m validation\u001B[38;5;241m.\u001B[39mindex\n\u001B[1;32m      4\u001B[0m validation \u001B[38;5;241m=\u001B[39m pd\u001B[38;5;241m.\u001B[39mconcat([validation,df_pred],axis\u001B[38;5;241m=\u001B[39m\u001B[38;5;241m1\u001B[39m)\n",
      "File \u001B[0;32m~/anaconda3/envs/ML/lib/python3.10/site-packages/pandas/core/frame.py:721\u001B[0m, in \u001B[0;36mDataFrame.__init__\u001B[0;34m(self, data, index, columns, dtype, copy)\u001B[0m\n\u001B[1;32m    711\u001B[0m         mgr \u001B[38;5;241m=\u001B[39m dict_to_mgr(\n\u001B[1;32m    712\u001B[0m             \u001B[38;5;66;03m# error: Item \"ndarray\" of \"Union[ndarray, Series, Index]\" has no\u001B[39;00m\n\u001B[1;32m    713\u001B[0m             \u001B[38;5;66;03m# attribute \"name\"\u001B[39;00m\n\u001B[0;32m   (...)\u001B[0m\n\u001B[1;32m    718\u001B[0m             typ\u001B[38;5;241m=\u001B[39mmanager,\n\u001B[1;32m    719\u001B[0m         )\n\u001B[1;32m    720\u001B[0m     \u001B[38;5;28;01melse\u001B[39;00m:\n\u001B[0;32m--> 721\u001B[0m         mgr \u001B[38;5;241m=\u001B[39m \u001B[43mndarray_to_mgr\u001B[49m\u001B[43m(\u001B[49m\n\u001B[1;32m    722\u001B[0m \u001B[43m            \u001B[49m\u001B[43mdata\u001B[49m\u001B[43m,\u001B[49m\n\u001B[1;32m    723\u001B[0m \u001B[43m            \u001B[49m\u001B[43mindex\u001B[49m\u001B[43m,\u001B[49m\n\u001B[1;32m    724\u001B[0m \u001B[43m            \u001B[49m\u001B[43mcolumns\u001B[49m\u001B[43m,\u001B[49m\n\u001B[1;32m    725\u001B[0m \u001B[43m            \u001B[49m\u001B[43mdtype\u001B[49m\u001B[38;5;241;43m=\u001B[39;49m\u001B[43mdtype\u001B[49m\u001B[43m,\u001B[49m\n\u001B[1;32m    726\u001B[0m \u001B[43m            \u001B[49m\u001B[43mcopy\u001B[49m\u001B[38;5;241;43m=\u001B[39;49m\u001B[43mcopy\u001B[49m\u001B[43m,\u001B[49m\n\u001B[1;32m    727\u001B[0m \u001B[43m            \u001B[49m\u001B[43mtyp\u001B[49m\u001B[38;5;241;43m=\u001B[39;49m\u001B[43mmanager\u001B[49m\u001B[43m,\u001B[49m\n\u001B[1;32m    728\u001B[0m \u001B[43m        \u001B[49m\u001B[43m)\u001B[49m\n\u001B[1;32m    730\u001B[0m \u001B[38;5;66;03m# For data is list-like, or Iterable (will consume into list)\u001B[39;00m\n\u001B[1;32m    731\u001B[0m \u001B[38;5;28;01melif\u001B[39;00m is_list_like(data):\n",
      "File \u001B[0;32m~/anaconda3/envs/ML/lib/python3.10/site-packages/pandas/core/internals/construction.py:329\u001B[0m, in \u001B[0;36mndarray_to_mgr\u001B[0;34m(values, index, columns, dtype, copy, typ)\u001B[0m\n\u001B[1;32m    324\u001B[0m         values \u001B[38;5;241m=\u001B[39m values\u001B[38;5;241m.\u001B[39mreshape(\u001B[38;5;241m-\u001B[39m\u001B[38;5;241m1\u001B[39m, \u001B[38;5;241m1\u001B[39m)\n\u001B[1;32m    326\u001B[0m \u001B[38;5;28;01melse\u001B[39;00m:\n\u001B[1;32m    327\u001B[0m     \u001B[38;5;66;03m# by definition an array here\u001B[39;00m\n\u001B[1;32m    328\u001B[0m     \u001B[38;5;66;03m# the dtypes will be coerced to a single dtype\u001B[39;00m\n\u001B[0;32m--> 329\u001B[0m     values \u001B[38;5;241m=\u001B[39m \u001B[43m_prep_ndarraylike\u001B[49m\u001B[43m(\u001B[49m\u001B[43mvalues\u001B[49m\u001B[43m,\u001B[49m\u001B[43m \u001B[49m\u001B[43mcopy\u001B[49m\u001B[38;5;241;43m=\u001B[39;49m\u001B[43mcopy_on_sanitize\u001B[49m\u001B[43m)\u001B[49m\n\u001B[1;32m    331\u001B[0m \u001B[38;5;28;01mif\u001B[39;00m dtype \u001B[38;5;129;01mis\u001B[39;00m \u001B[38;5;129;01mnot\u001B[39;00m \u001B[38;5;28;01mNone\u001B[39;00m \u001B[38;5;129;01mand\u001B[39;00m \u001B[38;5;129;01mnot\u001B[39;00m is_dtype_equal(values\u001B[38;5;241m.\u001B[39mdtype, dtype):\n\u001B[1;32m    332\u001B[0m     \u001B[38;5;66;03m# GH#40110 see similar check inside sanitize_array\u001B[39;00m\n\u001B[1;32m    333\u001B[0m     rcf \u001B[38;5;241m=\u001B[39m \u001B[38;5;129;01mnot\u001B[39;00m (is_integer_dtype(dtype) \u001B[38;5;129;01mand\u001B[39;00m values\u001B[38;5;241m.\u001B[39mdtype\u001B[38;5;241m.\u001B[39mkind \u001B[38;5;241m==\u001B[39m \u001B[38;5;124m\"\u001B[39m\u001B[38;5;124mf\u001B[39m\u001B[38;5;124m\"\u001B[39m)\n",
      "File \u001B[0;32m~/anaconda3/envs/ML/lib/python3.10/site-packages/pandas/core/internals/construction.py:583\u001B[0m, in \u001B[0;36m_prep_ndarraylike\u001B[0;34m(values, copy)\u001B[0m\n\u001B[1;32m    581\u001B[0m     values \u001B[38;5;241m=\u001B[39m values\u001B[38;5;241m.\u001B[39mreshape((values\u001B[38;5;241m.\u001B[39mshape[\u001B[38;5;241m0\u001B[39m], \u001B[38;5;241m1\u001B[39m))\n\u001B[1;32m    582\u001B[0m \u001B[38;5;28;01melif\u001B[39;00m values\u001B[38;5;241m.\u001B[39mndim \u001B[38;5;241m!=\u001B[39m \u001B[38;5;241m2\u001B[39m:\n\u001B[0;32m--> 583\u001B[0m     \u001B[38;5;28;01mraise\u001B[39;00m \u001B[38;5;167;01mValueError\u001B[39;00m(\u001B[38;5;124mf\u001B[39m\u001B[38;5;124m\"\u001B[39m\u001B[38;5;124mMust pass 2-d input. shape=\u001B[39m\u001B[38;5;132;01m{\u001B[39;00mvalues\u001B[38;5;241m.\u001B[39mshape\u001B[38;5;132;01m}\u001B[39;00m\u001B[38;5;124m\"\u001B[39m)\n\u001B[1;32m    585\u001B[0m \u001B[38;5;28;01mreturn\u001B[39;00m values\n",
      "\u001B[0;31mValueError\u001B[0m: Must pass 2-d input. shape=(3459, 105, 5)"
     ]
    }
   ],
   "source": [
    "validation = df[math.ceil( len(df) * 0.8 ):]\n",
    "df_pred = pd.DataFrame(predictions, columns = ['pred odds', 'pred r1 spread', 'pred r1 pup', 'pred r2 spread', 'pred r2 pup'])\n",
    "df_pred.index = validation.index\n",
    "validation = pd.concat([validation,df_pred],axis=1)\n",
    "plt.figure(figsize=(16,8))\n",
    "plt.title('Model')\n",
    "plt.xlabel('Time')\n",
    "plt.ylabel('Implied Probabilities')\n",
    "plt.plot(validation[['avg','pred odds']])\n",
    "plt.legend(['Measured values', 'Predictions'], loc='lower right')\n",
    "plt.show()"
   ],
   "metadata": {
    "collapsed": false,
    "ExecuteTime": {
     "start_time": "2023-04-17T11:36:48.534870Z",
     "end_time": "2023-04-17T11:36:48.688287Z"
    }
   }
  },
  {
   "cell_type": "code",
   "execution_count": null,
   "outputs": [],
   "source": [],
   "metadata": {
    "collapsed": false
   }
  }
 ],
 "metadata": {
  "kernelspec": {
   "display_name": "Python 3",
   "language": "python",
   "name": "python3"
  },
  "language_info": {
   "codemirror_mode": {
    "name": "ipython",
    "version": 2
   },
   "file_extension": ".py",
   "mimetype": "text/x-python",
   "name": "python",
   "nbconvert_exporter": "python",
   "pygments_lexer": "ipython2",
   "version": "2.7.6"
  }
 },
 "nbformat": 4,
 "nbformat_minor": 0
}
